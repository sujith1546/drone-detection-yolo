{
 "cells": [
  {
   "cell_type": "markdown",
   "metadata": {},
   "source": [
    "# Drone Detection with YOLOv11\n",
    "## Complete Training Pipeline using Kaggle Dataset\n",
    "\n",
    "This notebook contains the complete pipeline for training a YOLOv11 model to detect drones.\n",
    "\n",
    "**Steps:**\n",
    "1. Check GPU availability\n",
    "2. Setup Kaggle API\n",
    "3. Download dataset\n",
    "4. Verify dataset structure\n",
    "5. Train model\n",
    "6. Evaluate performance\n",
    "7. Run inference"
   ]
  },
  {
   "cell_type": "markdown",
   "metadata": {},
   "source": [
    "## Step 1: Check GPU and Install Dependencies"
   ]
  },
  {
   "cell_type": "code",
   "execution_count": null,
   "metadata": {},
   "outputs": [],
   "source": [
    "import torch\n",
    "print(f\"PyTorch version: {torch.__version__}\")\n",
    "print(f\"CUDA available: {torch.cuda.is_available()}\")\n",
    "if torch.cuda.is_available():\n",
    "    print(f\"GPU: {torch.cuda.get_device_name(0)}\")\n",
    "else:\n",
    "    print(\"⚠️ WARNING: GPU not available! Enable GPU in Runtime > Change runtime type\")\n",
    "print(\"=\"*60)"
   ]
  },
  {
   "cell_type": "code",
   "execution_count": null,
   "metadata": {},
   "outputs": [],
   "source": [
    "# Install required packages\n",
    "!pip install ultralytics -q\n",
    "!pip install kaggle -q"
   ]
  },
  {
   "cell_type": "code",
   "execution_count": null,
   "metadata": {},
   "outputs": [],
   "source": [
    "# Import libraries\n",
    "from ultralytics import YOLO\n",
    "import os\n",
    "from IPython.display import Image, display\n",
    "import yaml\n",
    "from google.colab import files"
   ]
  },
  {
   "cell_type": "markdown",
   "metadata": {},
   "source": [
    "## Step 2: Setup Kaggle API"
   ]
  },
  {
   "cell_type": "code",
   "execution_count": null,
   "metadata": {},
   "outputs": [],
   "source": [
    "print(\"\\n=== KAGGLE API SETUP ===\")\n",
    "print(\"\\nHow to get your kaggle.json:\")\n",
    "print(\"1. Go to https://www.kaggle.com\")\n",
    "print(\"2. Click on your profile picture (top right)\")\n",
    "print(\"3. Go to 'Settings'\")\n",
    "print(\"4. Scroll to 'API' section\")\n",
    "print(\"5. Click 'Create New Token'\")\n",
    "print(\"6. Download kaggle.json file\")\n",
    "print(\"\\n\" + \"=\"*60)\n",
    "\n",
    "# Upload kaggle.json\n",
    "print(\"\\nPlease upload your kaggle.json file:\")\n",
    "uploaded = files.upload()"
   ]
  },
  {
   "cell_type": "code",
   "execution_count": null,
   "metadata": {},
   "outputs": [],
   "source": [
    "# Setup Kaggle credentials\n",
    "!mkdir -p ~/.kaggle\n",
    "!cp kaggle.json ~/.kaggle/\n",
    "!chmod 600 ~/.kaggle/kaggle.json\n",
    "\n",
    "# Verify kaggle.json content\n",
    "import json\n",
    "try:\n",
    "    with open('/root/.kaggle/kaggle.json', 'r') as f:\n",
    "        kaggle_config = json.load(f)\n",
    "        if 'username' in kaggle_config and 'key' in kaggle_config:\n",
    "            print(f\"✓ Kaggle API configured successfully!\")\n",
    "            print(f\"✓ Username: {kaggle_config['username']}\")\n",
    "        else:\n",
    "            print(\"❌ ERROR: kaggle.json is missing 'username' or 'key'\")\n",
    "            raise ValueError(\"Invalid kaggle.json format\")\n",
    "except FileNotFoundError:\n",
    "    print(\"❌ ERROR: kaggle.json not found\")\n",
    "    raise"
   ]
  },
  {
   "cell_type": "markdown",
   "metadata": {},
   "source": [
    "## Step 3: Download Dataset from Kaggle"
   ]
  },
  {
   "cell_type": "code",
   "execution_count": null,
   "metadata": {},
   "outputs": [],
   "source": [
    "print(\"\\n=== DOWNLOADING DATASET FROM KAGGLE ===\")\n",
    "print(\"Dataset: YOLO Drone Detection Dataset by muki2003\")\n",
    "print(\"Downloading... This may take 3-5 minutes\")\n",
    "print(\"=\"*60 + \"\\n\")\n",
    "\n",
    "# Test Kaggle API first\n",
    "print(\"Testing Kaggle API connection...\")\n",
    "!kaggle datasets list --page-size 1\n",
    "print(\"✓ Kaggle API working!\")"
   ]
  },
  {
   "cell_type": "code",
   "execution_count": null,
   "metadata": {},
   "outputs": [],
   "source": [
    "# Download the dataset\n",
    "print(\"\\nDownloading dataset...\")\n",
    "!kaggle datasets download -d muki2003/yolo-drone-detection-dataset\n",
    "\n",
    "# Unzip the dataset\n",
    "print(\"\\nExtracting dataset...\")\n",
    "!unzip -q yolo-drone-detection-dataset.zip -d /content/drone_dataset\n",
    "!rm yolo-drone-detection-dataset.zip\n",
    "\n",
    "print(\"✓ Dataset extracted to /content/drone_dataset\")"
   ]
  },
  {
   "cell_type": "markdown",
   "metadata": {},
   "source": [
    "## Step 4: Verify Dataset Structure"
   ]
  },
  {
   "cell_type": "code",
   "execution_count": null,
   "metadata": {},
   "outputs": [],
   "source": [
    "# Your complete verification code from the original script\n",
    "# (Copy the entire STEP 4 section from your original code)"
   ]
  },
  {
   "cell_type": "markdown",
   "metadata": {},
   "source": [
    "## Step 5: Create YAML Configuration"
   ]
  },
  {
   "cell_type": "code",
   "execution_count": null,
   "metadata": {},
   "outputs": [],
   "source": [
    "# Your YAML creation code from STEP 5"
   ]
  },
  {
   "cell_type": "markdown",
   "metadata": {},
   "source": [
    "## Step 6: Visualize Sample Images"
   ]
  },
  {
   "cell_type": "code",
   "execution_count": null,
   "metadata": {},
   "outputs": [],
   "source": [
    "# Your visualization code from STEP 6"
   ]
  },
  {
   "cell_type": "markdown",
   "metadata": {},
   "source": [
    "## Step 7: Train the Model"
   ]
  },
  {
   "cell_type": "code",
   "execution_count": null,
   "metadata": {},
   "outputs": [],
   "source": [
    "# Your training code from STEP 7"
   ]
  },
  {
   "cell_type": "markdown",
   "metadata": {},
   "source": [
    "## Step 8: Evaluate Model"
   ]
  },
  {
   "cell_type": "code",
   "execution_count": null,
   "metadata": {},
   "outputs": [],
   "source": [
    "# Your evaluation code from STEP 8"
   ]
  },
  {
   "cell_type": "markdown",
   "metadata": {},
   "source": [
    "## Step 9: Test Predictions"
   ]
  },
  {
   "cell_type": "code",
   "execution_count": null,
   "metadata": {},
   "outputs": [],
   "source": [
    "# Your prediction code from STEP 9"
   ]
  },
  {
   "cell_type": "markdown",
   "metadata": {},
   "source": [
    "## Step 10: View Training Results"
   ]
  },
  {
   "cell_type": "code",
   "execution_count": null,
   "metadata": {},
   "outputs": [],
   "source": [
    "# Your results visualization code from STEP 10"
   ]
  },
  {
   "cell_type": "markdown",
   "metadata": {},
   "source": [
    "## Step 11: Export Model"
   ]
  },
  {
   "cell_type": "code",
   "execution_count": null,
   "metadata": {},
   "outputs": [],
   "source": [
    "# Your export code from STEP 11"
   ]
  },
  {
   "cell_type": "markdown",
   "metadata": {},
   "source": [
    "## Step 12: Download Model"
   ]
  },
  {
   "cell_type": "code",
   "execution_count": null,
   "metadata": {},
   "outputs": [],
   "source": [
    "# Your download code from STEP 12"
   ]
  },
  {
   "cell_type": "markdown",
   "metadata": {},
   "source": [
    "## Step 13: Inference Function + Upload & Test"
   ]
  },
  {
   "cell_type": "code",
   "execution_count": null,
   "metadata": {},
   "outputs": [],
   "source": [
    "# Your inference function from STEP 13"
   ]
  }
 ],
 "metadata": {
  "kernelspec": {
   "display_name": "Python 3",
   "language": "python",
   "name": "python3"
  },
  "language_info": {
   "codemirror_mode": {
    "name": "ipython",
    "version": 3
   },
   "file_extension": ".py",
   "mimetype": "text/x-python",
   "name": "python",
   "nbconvert_exporter": "python",
   "pygments_lexer": "ipython3",
   "version": "3.10.12"
  }
 },
 "nbformat": 4,
 "nbformat_minor": 4
}
